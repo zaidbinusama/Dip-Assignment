{
 "cells": [
  {
   "cell_type": "code",
   "execution_count": 9,
   "metadata": {},
   "outputs": [],
   "source": [
    "def getEdges(img):\n",
    "    horizontalEdges = np.array([[-1,0,-1],[0,0,0],[1,0,1]])\n",
    "    verticalEdges = np.array([[-1,0,1],[-1,0,1],[-1,0,1]])\n",
    "    horizontalEdgescards = np.zeros(img.shape)\n",
    "    verticalEdgescards = np.zeros(img.shape)\n",
    "    for i in range(1, img.shape[0]-1):\n",
    "        for j in range(1, img.shape[1]-1):\n",
    "            horizontalEdgescards[i,j] = np.sum(img[i-1:i+2, j-1:j+2]*horizontalEdges)\n",
    "            verticalEdgescards[i,j] = np.sum(img[i-1:i+2, j-1:j+2]*verticalEdges)\n",
    "\n",
    "    edges = verticalEdgescards + horizontalEdgescards\n",
    "    return edges"
   ]
  },
  {
   "cell_type": "code",
   "execution_count": 12,
   "metadata": {},
   "outputs": [],
   "source": [
    "thresh1 = cv2.adaptiveThreshold(img,255,cv2.ADAPTIVE_THRESH_GAUSSIAN_C, cv2.THRESH_BINARY_INV,107,9)\n",
    "edge = getEdges(thresh1)"
   ]
  },
  {
   "cell_type": "code",
   "execution_count": 24,
   "metadata": {},
   "outputs": [],
   "source": [
    "grad_x = cv2.Sobel(thresh1, cv2.CV_16S, 1, 0, ksize=3, scale=1, delta=0, borderType=cv2.BORDER_DEFAULT)\n"
   ]
  },
  {
   "cell_type": "code",
   "execution_count": 42,
   "metadata": {},
   "outputs": [],
   "source": [
    "\n",
    "edge = cv2.dilate(cv2.Canny(thresh1, np.min(img), np.max(img)), None)\n"
   ]
  },
  {
   "cell_type": "code",
   "execution_count": 51,
   "metadata": {},
   "outputs": [
    {
     "data": {
      "image/png": "[encoded data removed]",
      "text/plain": [
       "<Figure size 432x288 with 1 Axes>"
      ]
     },
     "metadata": {
      "needs_background": "light"
     },
     "output_type": "display_data"
    }
   ],
   "source": [
    "import os\n",
    "import cv2\n",
    "os.system('cls')\n",
    "import numpy as np\n",
    "from matplotlib.image import imread\n",
    "import matplotlib.pyplot as plt\n",
    "import skimage\n",
    "from skimage.color import rgb2gray\n",
    "from skimage.color import gray2rgb\n",
    "from skimage.filters import try_all_threshold\n",
    "from skimage import filters\n",
    "\n",
    "# ret,thresh1 = cv2.threshold(img,np.mean(img),255,cv2.THRESH_BINARY)\n",
    "img = cv2.imread('zaid.jpeg', 0)\n",
    "# gray = cv2.cvtColor(img, cv2.COLOR_BGR2GRAY)\n",
    "# ret,thresh1 = cv2.threshold(img,np.mean(img),255,cv2.THRESH_BINARY)\n",
    "\n",
    "# dil = cv2.dilate(grad_x, None)\n",
    "# dil = cv2.erode(dil, None)\n",
    "# dil = cv2.dilate(dil, None)\n",
    "# dil = cv2.dilate(dil, None)\n",
    "# dil = cv2.dilate(dil, None)\n",
    "edge = cv2.erode(edge, None)\n",
    "# edge = cv2.dilate(edge, None)\n",
    "edge = cv2.erode(edge, None)\n",
    "# edge = cv2.dilate(edge, None)\n",
    "cnt = sorted(cv2.findContours(edge, cv2.RETR_LIST, cv2.CHAIN_APPROX_SIMPLE)[-2], key=cv2.contourArea)[-1]\n",
    "\n",
    "mask = np.zeros(img.shape, dtype='uint8')\n",
    "\n",
    "drawn_contours = cv2.drawContours(mask, [cnt], -1, 255, -1)\n",
    "\n",
    "dst = cv2.bitwise_and(img, img, mask=mask)\n",
    "# dst = cv2.cvtColor(dst, cv2.COLOR_BGR2RGB)\n",
    "plt.imshow(mask, cmap=plt.get_cmap('gray'))\n",
    "plt.show()"
   ]
  },
  {
   "cell_type": "code",
   "execution_count": null,
   "metadata": {},
   "outputs": [],
   "source": []
  }
 ],
 "metadata": {
  "kernelspec": {
   "display_name": "Python 3.9.12 ('base')",
   "language": "python",
   "name": "python3"
  },
  "language_info": {
   "codemirror_mode": {
    "name": "ipython",
    "version": 3
   },
   "file_extension": ".py",
   "mimetype": "text/x-python",
   "name": "python",
   "nbconvert_exporter": "python",
   "pygments_lexer": "ipython3",
   "version": "3.9.12"
  },
  "orig_nbformat": 4,
  "vscode": {
   "interpreter": {
    "hash": "dc07d24e2f18896857f0b2a651fe84ba40ce7b297e58d8804a308c8039f752a6"
   }
  }
 },
 "nbformat": 4,
 "nbformat_minor": 2
}
